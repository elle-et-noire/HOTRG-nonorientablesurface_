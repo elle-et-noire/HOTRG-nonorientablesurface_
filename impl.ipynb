{
 "cells": [
  {
   "cell_type": "code",
   "execution_count": 1,
   "metadata": {},
   "outputs": [],
   "source": [
    "include(\"hotrg.jl\")\n",
    "include(\"ising.jl\")\n",
    "include(\"potts.jl\")\n",
    "using Logging\n",
    "Logging.disable_logging(Logging.Warn);"
   ]
  },
  {
   "cell_type": "markdown",
   "metadata": {},
   "source": [
    "## Calculation of crosscap/rainbow free energy term for the Ising model and three-state Potts model"
   ]
  },
  {
   "cell_type": "code",
   "execution_count": null,
   "metadata": {},
   "outputs": [],
   "source": [
    "χ = 16\n",
    "stepnum = 7\n",
    "eigvalnum = 3"
   ]
  },
  {
   "cell_type": "code",
   "execution_count": null,
   "metadata": {},
   "outputs": [],
   "source": [
    "_, cftdata_ising = hotrg(Ising.bulk(inv(Ising.criticaltemperature()))...; maxdim = χ, stepnum, eigvalnum)"
   ]
  },
  {
   "cell_type": "code",
   "execution_count": null,
   "metadata": {},
   "outputs": [],
   "source": [
    "_, cftdata_potts3 = hotrg(Potts.bulk(inv(Potts.criticaltemperature(q = 3)); q = 3)...; maxdim = χ, stepnum, eigvalnum)"
   ]
  },
  {
   "cell_type": "markdown",
   "metadata": {},
   "source": [
    "## Plots of rainbow free energy term"
   ]
  },
  {
   "cell_type": "code",
   "execution_count": null,
   "metadata": {},
   "outputs": [],
   "source": [
    "fr_ising = log.(abs.(cftdata_ising[\"<R|i>\"][1, :]))\n",
    "fr_potts3 = log.(abs.(cftdata_potts3[\"<R|i>\"][1, :]))\n",
    "β = 2 .^ (1:stepnum)\n",
    "\n",
    "fitrange_ising = 1:6\n",
    "fitrange_potts3 = 1:3\n",
    "\n",
    "f_ising(x, p) = @. (Ising.centralcharge() / 4) * log(x) + p[1]\n",
    "fit_ising = curve_fit(f_ising, β[fitrange_ising], fr_ising[fitrange_ising], [0.])\n",
    "f_ising(x) = f_ising(x, fit_ising.param)\n",
    "f_potts3(x, p) = @. (Potts.centralcharge(q = 3) / 4) * log(x) + p[1]\n",
    "fit_potts3 = curve_fit(f_potts3, β[fitrange_potts3], fr_potts3[fitrange_potts3], [0.])\n",
    "f_potts3(x) = f_potts3(x, fit_potts3.param)\n",
    "\n",
    "scatter(β, fr_ising; xscale = :log2, xlabel = \"β\", ylabel = \"F_R\",\n",
    "  label = \"Ising\", markershape = :x)\n",
    "scatter!(β, fr_potts3; label = \"Potts3\", markershape = :+)\n",
    "plot!(β, f_ising(β); line = :dash)\n",
    "plot!(β, f_potts3(β); line = :dotted)"
   ]
  },
  {
   "cell_type": "markdown",
   "metadata": {},
   "source": [
    "## Plots of crosscap free energy term"
   ]
  },
  {
   "cell_type": "code",
   "execution_count": null,
   "metadata": {},
   "outputs": [],
   "source": [
    "fc_ising = log.(abs.(cftdata_ising[\"<C|i>\"][1, :]))\n",
    "fc_potts3 = log.(abs.(cftdata_potts3[\"<C|i>\"][1, :]))\n",
    "β = 2 .^ (1:stepnum)\n",
    "\n",
    "scatter(β, fc_ising; xscale = :log2, xlabel = \"β\", ylabel = \"F_C\",\n",
    "  label = \"Ising\", markershape = :x)\n",
    "scatter!(β, fc_potts3; label = \"Potts3\", markershape = :+)\n",
    "hline!([log(Ising.quantumdimension()) / 2]; line = :dash)\n",
    "hline!([log(Potts.quantumdimension(q = 3)) / 2]; line = :dot)"
   ]
  }
 ],
 "metadata": {
  "kernelspec": {
   "display_name": "Julia 1.10.1",
   "language": "julia",
   "name": "julia-1.10"
  },
  "language_info": {
   "file_extension": ".jl",
   "mimetype": "application/julia",
   "name": "julia",
   "version": "1.10.1"
  }
 },
 "nbformat": 4,
 "nbformat_minor": 2
}
